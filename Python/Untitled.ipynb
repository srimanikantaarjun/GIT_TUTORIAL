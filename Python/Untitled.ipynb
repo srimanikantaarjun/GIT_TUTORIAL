{
  "nbformat": 4,
  "nbformat_minor": 0,
  "metadata": {
    "colab": {
      "provenance": []
    },
    "kernelspec": {
      "name": "python3",
      "display_name": "Python 3"
    },
    "language_info": {
      "name": "python"
    }
  },
  "cells": [
    {
      "cell_type": "code",
      "execution_count": null,
      "metadata": {
        "colab": {
          "base_uri": "https://localhost:8080/"
        },
        "id": "LEI4C73nFR1I",
        "outputId": "357d787d-401c-45be-be03-1e04a6e34d5b"
      },
      "outputs": [
        {
          "output_type": "execute_result",
          "data": {
            "text/plain": [
              "[5, 1, 2, 3, 4]"
            ]
          },
          "metadata": {},
          "execution_count": 2
        }
      ],
      "source": [
        "def selection_sort(arr):\n",
        "  for i in range(len(arr)):\n",
        "    for j in range(1, len(arr)-1):\n",
        "      if j<i:\n",
        "        arr[j], arr[i] = arr[i], arr[j]\n",
        "  return arr\n",
        "\n",
        "selection_sort([5,4,3,2,1])"
      ]
    },
    {
      "cell_type": "code",
      "source": [
        "def selection_sort(arr):\n",
        "    n = len(arr)\n",
        "    for i in range(0, n):\n",
        "        minvalue = arr[i]\n",
        "        minindex = i\n",
        "        for j in range(i+1, n):\n",
        "            if arr[j] < minvalue:\n",
        "                minvalue = arr[j]\n",
        "                minindex = j\n",
        "        arr[i], arr[minindex] = arr[minindex], arr[i]\n",
        "    return arr\n",
        "selection_sort([5, 4, 3, 2, 1])"
      ],
      "metadata": {
        "colab": {
          "base_uri": "https://localhost:8080/"
        },
        "id": "TdlVzKGQGfso",
        "outputId": "7c339f41-fdb4-4c56-8924-804535656403"
      },
      "execution_count": null,
      "outputs": [
        {
          "output_type": "execute_result",
          "data": {
            "text/plain": [
              "[1, 2, 3, 4, 5]"
            ]
          },
          "metadata": {},
          "execution_count": 6
        }
      ]
    },
    {
      "cell_type": "code",
      "source": [
        "for i in range(0, 5):\n",
        "    print(i)"
      ],
      "metadata": {
        "colab": {
          "base_uri": "https://localhost:8080/"
        },
        "id": "2AvhPs0PI8D7",
        "outputId": "c18569c0-50ef-4489-dfc1-77c8032718f8"
      },
      "execution_count": null,
      "outputs": [
        {
          "output_type": "stream",
          "name": "stdout",
          "text": [
            "0\n",
            "1\n",
            "2\n",
            "3\n",
            "4\n"
          ]
        }
      ]
    },
    {
      "cell_type": "code",
      "source": [],
      "metadata": {
        "id": "gLr8cssAJWyN"
      },
      "execution_count": null,
      "outputs": []
    }
  ]
}